{
 "cells": [
  {
   "cell_type": "code",
   "execution_count": 20,
   "metadata": {
    "collapsed": true
   },
   "outputs": [],
   "source": [
    "import h2o\n",
    "import pandas as pd"
   ]
  },
  {
   "cell_type": "code",
   "execution_count": 26,
   "metadata": {
    "collapsed": true
   },
   "outputs": [],
   "source": [
    "import matplotlib.pyplot as plt\n",
    "import seaborn as sns"
   ]
  },
  {
   "cell_type": "code",
   "execution_count": 23,
   "metadata": {},
   "outputs": [],
   "source": [
    "pd.set_option('precision', 2)"
   ]
  },
  {
   "cell_type": "code",
   "execution_count": 2,
   "metadata": {},
   "outputs": [
    {
     "name": "stdout",
     "output_type": "stream",
     "text": [
      "Checking whether there is an H2O instance running at http://localhost:54321 . connected.\n"
     ]
    },
    {
     "data": {
      "text/html": [
       "<div style=\"overflow:auto\"><table style=\"width:50%\"><tr><td>H2O cluster uptime:</td>\n",
       "<td>4 days 10 hours 39 mins</td></tr>\n",
       "<tr><td>H2O cluster timezone:</td>\n",
       "<td>Asia/Kolkata</td></tr>\n",
       "<tr><td>H2O data parsing timezone:</td>\n",
       "<td>UTC</td></tr>\n",
       "<tr><td>H2O cluster version:</td>\n",
       "<td>3.24.0.2</td></tr>\n",
       "<tr><td>H2O cluster version age:</td>\n",
       "<td>16 days </td></tr>\n",
       "<tr><td>H2O cluster name:</td>\n",
       "<td>H2O_from_python_rahul_nimje_xw6eqr</td></tr>\n",
       "<tr><td>H2O cluster total nodes:</td>\n",
       "<td>1</td></tr>\n",
       "<tr><td>H2O cluster free memory:</td>\n",
       "<td>3.218 Gb</td></tr>\n",
       "<tr><td>H2O cluster total cores:</td>\n",
       "<td>8</td></tr>\n",
       "<tr><td>H2O cluster allowed cores:</td>\n",
       "<td>8</td></tr>\n",
       "<tr><td>H2O cluster status:</td>\n",
       "<td>locked, healthy</td></tr>\n",
       "<tr><td>H2O connection url:</td>\n",
       "<td>http://localhost:54321</td></tr>\n",
       "<tr><td>H2O connection proxy:</td>\n",
       "<td>None</td></tr>\n",
       "<tr><td>H2O internal security:</td>\n",
       "<td>False</td></tr>\n",
       "<tr><td>H2O API Extensions:</td>\n",
       "<td>Amazon S3, Algos, AutoML, Core V3, Core V4</td></tr>\n",
       "<tr><td>Python version:</td>\n",
       "<td>3.6.3 final</td></tr></table></div>"
      ],
      "text/plain": [
       "--------------------------  ------------------------------------------\n",
       "H2O cluster uptime:         4 days 10 hours 39 mins\n",
       "H2O cluster timezone:       Asia/Kolkata\n",
       "H2O data parsing timezone:  UTC\n",
       "H2O cluster version:        3.24.0.2\n",
       "H2O cluster version age:    16 days\n",
       "H2O cluster name:           H2O_from_python_rahul_nimje_xw6eqr\n",
       "H2O cluster total nodes:    1\n",
       "H2O cluster free memory:    3.218 Gb\n",
       "H2O cluster total cores:    8\n",
       "H2O cluster allowed cores:  8\n",
       "H2O cluster status:         locked, healthy\n",
       "H2O connection url:         http://localhost:54321\n",
       "H2O connection proxy:\n",
       "H2O internal security:      False\n",
       "H2O API Extensions:         Amazon S3, Algos, AutoML, Core V3, Core V4\n",
       "Python version:             3.6.3 final\n",
       "--------------------------  ------------------------------------------"
      ]
     },
     "metadata": {},
     "output_type": "display_data"
    }
   ],
   "source": [
    "h2o.init()"
   ]
  },
  {
   "cell_type": "code",
   "execution_count": 3,
   "metadata": {},
   "outputs": [
    {
     "name": "stdout",
     "output_type": "stream",
     "text": [
      "Parse progress: |█████████████████████████████████████████████████████████| 100%\n"
     ]
    }
   ],
   "source": [
    "df=h2o.import_file(\"iris_dataset1.csv\")"
   ]
  },
  {
   "cell_type": "code",
   "execution_count": 9,
   "metadata": {},
   "outputs": [
    {
     "data": {
      "text/html": [
       "<table>\n",
       "<thead>\n",
       "<tr><th style=\"text-align: right;\">  sepal_length</th><th style=\"text-align: right;\">  sepal_width</th><th style=\"text-align: right;\">  petal_length</th><th style=\"text-align: right;\">  petal_width</th><th>class  </th></tr>\n",
       "</thead>\n",
       "<tbody>\n",
       "<tr><td style=\"text-align: right;\">           5.1</td><td style=\"text-align: right;\">          3.5</td><td style=\"text-align: right;\">           1.4</td><td style=\"text-align: right;\">          0.2</td><td>setosa </td></tr>\n",
       "<tr><td style=\"text-align: right;\">           4.9</td><td style=\"text-align: right;\">          3  </td><td style=\"text-align: right;\">           1.4</td><td style=\"text-align: right;\">          0.2</td><td>setosa </td></tr>\n",
       "<tr><td style=\"text-align: right;\">           4.7</td><td style=\"text-align: right;\">          3.2</td><td style=\"text-align: right;\">           1.3</td><td style=\"text-align: right;\">          0.2</td><td>setosa </td></tr>\n",
       "<tr><td style=\"text-align: right;\">           4.6</td><td style=\"text-align: right;\">          3.1</td><td style=\"text-align: right;\">           1.5</td><td style=\"text-align: right;\">          0.2</td><td>setosa </td></tr>\n",
       "<tr><td style=\"text-align: right;\">           5  </td><td style=\"text-align: right;\">          3.6</td><td style=\"text-align: right;\">           1.4</td><td style=\"text-align: right;\">          0.2</td><td>setosa </td></tr>\n",
       "<tr><td style=\"text-align: right;\">           5.4</td><td style=\"text-align: right;\">          3.9</td><td style=\"text-align: right;\">           1.7</td><td style=\"text-align: right;\">          0.4</td><td>setosa </td></tr>\n",
       "<tr><td style=\"text-align: right;\">           4.6</td><td style=\"text-align: right;\">          3.4</td><td style=\"text-align: right;\">           1.4</td><td style=\"text-align: right;\">          0.3</td><td>setosa </td></tr>\n",
       "<tr><td style=\"text-align: right;\">           5  </td><td style=\"text-align: right;\">          3.4</td><td style=\"text-align: right;\">           1.5</td><td style=\"text-align: right;\">          0.2</td><td>setosa </td></tr>\n",
       "<tr><td style=\"text-align: right;\">           4.4</td><td style=\"text-align: right;\">          2.9</td><td style=\"text-align: right;\">           1.4</td><td style=\"text-align: right;\">          0.2</td><td>setosa </td></tr>\n",
       "<tr><td style=\"text-align: right;\">           4.9</td><td style=\"text-align: right;\">          3.1</td><td style=\"text-align: right;\">           1.5</td><td style=\"text-align: right;\">          0.1</td><td>setosa </td></tr>\n",
       "</tbody>\n",
       "</table>"
      ]
     },
     "metadata": {},
     "output_type": "display_data"
    },
    {
     "data": {
      "text/plain": []
     },
     "execution_count": 9,
     "metadata": {},
     "output_type": "execute_result"
    }
   ],
   "source": [
    "df.head() # The default head() command displays the first 10 rows."
   ]
  },
  {
   "cell_type": "code",
   "execution_count": 24,
   "metadata": {},
   "outputs": [
    {
     "name": "stdout",
     "output_type": "stream",
     "text": [
      "Rows:150\n",
      "Cols:5\n",
      "\n",
      "\n"
     ]
    },
    {
     "data": {
      "text/html": [
       "<table>\n",
       "<thead>\n",
       "<tr><th>       </th><th>sepal_length      </th><th>sepal_width        </th><th>petal_length     </th><th>petal_width       </th><th>class  </th></tr>\n",
       "</thead>\n",
       "<tbody>\n",
       "<tr><td>type   </td><td>real              </td><td>real               </td><td>real             </td><td>real              </td><td>enum   </td></tr>\n",
       "<tr><td>mins   </td><td>4.3               </td><td>2.0                </td><td>1.0              </td><td>0.1               </td><td>       </td></tr>\n",
       "<tr><td>mean   </td><td>5.843333333333333 </td><td>3.053999999999999  </td><td>3.758666666666667</td><td>1.1986666666666665</td><td>       </td></tr>\n",
       "<tr><td>maxs   </td><td>7.9               </td><td>4.4                </td><td>6.9              </td><td>2.5               </td><td>       </td></tr>\n",
       "<tr><td>sigma  </td><td>0.8280661279778637</td><td>0.43359431136217375</td><td>1.764420419952262</td><td>0.7631607417008414</td><td>       </td></tr>\n",
       "<tr><td>zeros  </td><td>0                 </td><td>0                  </td><td>0                </td><td>0                 </td><td>       </td></tr>\n",
       "<tr><td>missing</td><td>0                 </td><td>0                  </td><td>0                </td><td>0                 </td><td>0      </td></tr>\n",
       "<tr><td>0      </td><td>5.1               </td><td>3.5                </td><td>1.4              </td><td>0.2               </td><td>setosa </td></tr>\n",
       "<tr><td>1      </td><td>4.9               </td><td>3.0                </td><td>1.4              </td><td>0.2               </td><td>setosa </td></tr>\n",
       "<tr><td>2      </td><td>4.7               </td><td>3.2                </td><td>1.3              </td><td>0.2               </td><td>setosa </td></tr>\n",
       "<tr><td>3      </td><td>4.6               </td><td>3.1                </td><td>1.5              </td><td>0.2               </td><td>setosa </td></tr>\n",
       "<tr><td>4      </td><td>5.0               </td><td>3.6                </td><td>1.4              </td><td>0.2               </td><td>setosa </td></tr>\n",
       "<tr><td>5      </td><td>5.4               </td><td>3.9                </td><td>1.7              </td><td>0.4               </td><td>setosa </td></tr>\n",
       "<tr><td>6      </td><td>4.6               </td><td>3.4                </td><td>1.4              </td><td>0.3               </td><td>setosa </td></tr>\n",
       "<tr><td>7      </td><td>5.0               </td><td>3.4                </td><td>1.5              </td><td>0.2               </td><td>setosa </td></tr>\n",
       "<tr><td>8      </td><td>4.4               </td><td>2.9                </td><td>1.4              </td><td>0.2               </td><td>setosa </td></tr>\n",
       "<tr><td>9      </td><td>4.9               </td><td>3.1                </td><td>1.5              </td><td>0.1               </td><td>setosa </td></tr>\n",
       "</tbody>\n",
       "</table>"
      ]
     },
     "metadata": {},
     "output_type": "display_data"
    }
   ],
   "source": [
    "df.describe()"
   ]
  },
  {
   "cell_type": "code",
   "execution_count": 5,
   "metadata": {
    "collapsed": true
   },
   "outputs": [],
   "source": [
    "y='class'"
   ]
  },
  {
   "cell_type": "code",
   "execution_count": 28,
   "metadata": {
    "collapsed": true
   },
   "outputs": [],
   "source": [
    "df1=df.drop(['class'],axis=1)"
   ]
  },
  {
   "cell_type": "code",
   "execution_count": 30,
   "metadata": {},
   "outputs": [
    {
     "data": {
      "image/png": "[encoded data removed]",
      "text/plain": [
       "<matplotlib.figure.Figure at 0x1cbfae911d0>"
      ]
     },
     "metadata": {},
     "output_type": "display_data"
    }
   ],
   "source": [
    "plt.figure(figsize=(8,8))\n",
    "corr = df1.cor().as_data_frame()\n",
    "corr.index = df1.columns\n",
    "sns.heatmap(corr, annot = True, cmap='RdYlGn', vmin=-1, vmax=1)\n",
    "plt.title(\"Correlation Heatmap\", fontsize=16)\n",
    "plt.show()"
   ]
  },
  {
   "cell_type": "code",
   "execution_count": 6,
   "metadata": {
    "collapsed": true
   },
   "outputs": [],
   "source": [
    "x=df.names"
   ]
  },
  {
   "cell_type": "code",
   "execution_count": 7,
   "metadata": {
    "collapsed": true
   },
   "outputs": [],
   "source": [
    "x.remove(y)"
   ]
  },
  {
   "cell_type": "code",
   "execution_count": 34,
   "metadata": {},
   "outputs": [],
   "source": [
    "#train,test=df.split_frame([0.8])\n",
    "train, valid, test = df.split_frame([0.70, 0.15],seed=1234)"
   ]
  },
  {
   "cell_type": "code",
   "execution_count": 35,
   "metadata": {},
   "outputs": [
    {
     "data": {
      "text/plain": [
       "(24, 5)"
      ]
     },
     "execution_count": 35,
     "metadata": {},
     "output_type": "execute_result"
    }
   ],
   "source": [
    "test.shape"
   ]
  },
  {
   "cell_type": "code",
   "execution_count": 36,
   "metadata": {
    "collapsed": true
   },
   "outputs": [],
   "source": [
    "from h2o.estimators.random_forest import H2ORandomForestEstimator\n",
    "m = h2o.estimators.H2ORandomForestEstimator(model_id=\"RF_defaults\", nfolds=10)\n"
   ]
  },
  {
   "cell_type": "code",
   "execution_count": 37,
   "metadata": {},
   "outputs": [
    {
     "name": "stdout",
     "output_type": "stream",
     "text": [
      "drf Model Build progress: |███████████████████████████████████████████████| 100%\n"
     ]
    }
   ],
   "source": [
    "m.train(x, y, train)"
   ]
  },
  {
   "cell_type": "code",
   "execution_count": 39,
   "metadata": {},
   "outputs": [
    {
     "name": "stdout",
     "output_type": "stream",
     "text": [
      "Model Details\n",
      "=============\n",
      "H2ORandomForestEstimator :  Distributed Random Forest\n",
      "Model Key:  RF_defaults\n",
      "\n",
      "\n",
      "ModelMetricsMultinomial: drf\n",
      "** Reported on train data. **\n",
      "\n",
      "MSE: 0.02982705446564453\n",
      "RMSE: 0.1727051083947563\n",
      "LogLoss: 0.09796231313147521\n",
      "Mean Per-Class Error: 0.03389103389103389\n",
      "Confusion Matrix: Row labels: Actual class; Column labels: Predicted class\n",
      "\n"
     ]
    },
    {
     "data": {
      "text/html": [
       "<div style=\"overflow:auto\"><table style=\"width:50%\"><tr><td><b>setosa</b></td>\n",
       "<td><b>versicolor</b></td>\n",
       "<td><b>virginica</b></td>\n",
       "<td><b>Error</b></td>\n",
       "<td><b>Rate</b></td></tr>\n",
       "<tr><td>31.0</td>\n",
       "<td>0.0</td>\n",
       "<td>0.0</td>\n",
       "<td>0.0</td>\n",
       "<td>0 / 31</td></tr>\n",
       "<tr><td>0.0</td>\n",
       "<td>35.0</td>\n",
       "<td>2.0</td>\n",
       "<td>0.0540541</td>\n",
       "<td>2 / 37</td></tr>\n",
       "<tr><td>0.0</td>\n",
       "<td>2.0</td>\n",
       "<td>40.0</td>\n",
       "<td>0.0476190</td>\n",
       "<td>2 / 42</td></tr>\n",
       "<tr><td>31.0</td>\n",
       "<td>37.0</td>\n",
       "<td>42.0</td>\n",
       "<td>0.0363636</td>\n",
       "<td>4 / 110</td></tr></table></div>"
      ],
      "text/plain": [
       "setosa    versicolor    virginica    Error      Rate\n",
       "--------  ------------  -----------  ---------  -------\n",
       "31        0             0            0          0 / 31\n",
       "0         35            2            0.0540541  2 / 37\n",
       "0         2             40           0.047619   2 / 42\n",
       "31        37            42           0.0363636  4 / 110"
      ]
     },
     "metadata": {},
     "output_type": "display_data"
    },
    {
     "name": "stdout",
     "output_type": "stream",
     "text": [
      "Top-3 Hit Ratios: \n"
     ]
    },
    {
     "data": {
      "text/html": [
       "<div style=\"overflow:auto\"><table style=\"width:50%\"><tr><td><b>k</b></td>\n",
       "<td><b>hit_ratio</b></td></tr>\n",
       "<tr><td>1</td>\n",
       "<td>0.9636363</td></tr>\n",
       "<tr><td>2</td>\n",
       "<td>1.0</td></tr>\n",
       "<tr><td>3</td>\n",
       "<td>1.0</td></tr></table></div>"
      ],
      "text/plain": [
       "k    hit_ratio\n",
       "---  -----------\n",
       "1    0.963636\n",
       "2    1\n",
       "3    1"
      ]
     },
     "metadata": {},
     "output_type": "display_data"
    },
    {
     "name": "stdout",
     "output_type": "stream",
     "text": [
      "\n",
      "ModelMetricsMultinomial: drf\n",
      "** Reported on cross-validation data. **\n",
      "\n",
      "MSE: 0.04052828383065766\n",
      "RMSE: 0.20131637745264955\n",
      "LogLoss: 0.14272921142954\n",
      "Mean Per-Class Error: 0.049764049764049766\n",
      "Confusion Matrix: Row labels: Actual class; Column labels: Predicted class\n",
      "\n"
     ]
    },
    {
     "data": {
      "text/html": [
       "<div style=\"overflow:auto\"><table style=\"width:50%\"><tr><td><b>setosa</b></td>\n",
       "<td><b>versicolor</b></td>\n",
       "<td><b>virginica</b></td>\n",
       "<td><b>Error</b></td>\n",
       "<td><b>Rate</b></td></tr>\n",
       "<tr><td>31.0</td>\n",
       "<td>0.0</td>\n",
       "<td>0.0</td>\n",
       "<td>0.0</td>\n",
       "<td>0 / 31</td></tr>\n",
       "<tr><td>0.0</td>\n",
       "<td>35.0</td>\n",
       "<td>2.0</td>\n",
       "<td>0.0540541</td>\n",
       "<td>2 / 37</td></tr>\n",
       "<tr><td>0.0</td>\n",
       "<td>4.0</td>\n",
       "<td>38.0</td>\n",
       "<td>0.0952381</td>\n",
       "<td>4 / 42</td></tr>\n",
       "<tr><td>31.0</td>\n",
       "<td>39.0</td>\n",
       "<td>40.0</td>\n",
       "<td>0.0545455</td>\n",
       "<td>6 / 110</td></tr></table></div>"
      ],
      "text/plain": [
       "setosa    versicolor    virginica    Error      Rate\n",
       "--------  ------------  -----------  ---------  -------\n",
       "31        0             0            0          0 / 31\n",
       "0         35            2            0.0540541  2 / 37\n",
       "0         4             38           0.0952381  4 / 42\n",
       "31        39            40           0.0545455  6 / 110"
      ]
     },
     "metadata": {},
     "output_type": "display_data"
    },
    {
     "name": "stdout",
     "output_type": "stream",
     "text": [
      "Top-3 Hit Ratios: \n"
     ]
    },
    {
     "data": {
      "text/html": [
       "<div style=\"overflow:auto\"><table style=\"width:50%\"><tr><td><b>k</b></td>\n",
       "<td><b>hit_ratio</b></td></tr>\n",
       "<tr><td>1</td>\n",
       "<td>0.9454545</td></tr>\n",
       "<tr><td>2</td>\n",
       "<td>1.0</td></tr>\n",
       "<tr><td>3</td>\n",
       "<td>1.0</td></tr></table></div>"
      ],
      "text/plain": [
       "k    hit_ratio\n",
       "---  -----------\n",
       "1    0.945455\n",
       "2    1\n",
       "3    1"
      ]
     },
     "metadata": {},
     "output_type": "display_data"
    },
    {
     "name": "stdout",
     "output_type": "stream",
     "text": [
      "Cross-Validation Metrics Summary: \n"
     ]
    },
    {
     "data": {
      "text/html": [
       "<div style=\"overflow:auto\"><table style=\"width:50%\"><tr><td><b></b></td>\n",
       "<td><b>mean</b></td>\n",
       "<td><b>sd</b></td>\n",
       "<td><b>cv_1_valid</b></td>\n",
       "<td><b>cv_2_valid</b></td>\n",
       "<td><b>cv_3_valid</b></td>\n",
       "<td><b>cv_4_valid</b></td>\n",
       "<td><b>cv_5_valid</b></td>\n",
       "<td><b>cv_6_valid</b></td>\n",
       "<td><b>cv_7_valid</b></td>\n",
       "<td><b>cv_8_valid</b></td>\n",
       "<td><b>cv_9_valid</b></td>\n",
       "<td><b>cv_10_valid</b></td></tr>\n",
       "<tr><td>accuracy</td>\n",
       "<td>0.9327244</td>\n",
       "<td>0.0691644</td>\n",
       "<td>0.9230769</td>\n",
       "<td>0.9</td>\n",
       "<td>0.9375</td>\n",
       "<td>1.0</td>\n",
       "<td>0.6666667</td>\n",
       "<td>1.0</td>\n",
       "<td>0.9</td>\n",
       "<td>1.0</td>\n",
       "<td>1.0</td>\n",
       "<td>1.0</td></tr>\n",
       "<tr><td>err</td>\n",
       "<td>0.0672756</td>\n",
       "<td>0.0691644</td>\n",
       "<td>0.0769231</td>\n",
       "<td>0.1</td>\n",
       "<td>0.0625</td>\n",
       "<td>0.0</td>\n",
       "<td>0.3333333</td>\n",
       "<td>0.0</td>\n",
       "<td>0.1</td>\n",
       "<td>0.0</td>\n",
       "<td>0.0</td>\n",
       "<td>0.0</td></tr>\n",
       "<tr><td>err_count</td>\n",
       "<td>0.6</td>\n",
       "<td>0.4690416</td>\n",
       "<td>1.0</td>\n",
       "<td>1.0</td>\n",
       "<td>1.0</td>\n",
       "<td>0.0</td>\n",
       "<td>2.0</td>\n",
       "<td>0.0</td>\n",
       "<td>1.0</td>\n",
       "<td>0.0</td>\n",
       "<td>0.0</td>\n",
       "<td>0.0</td></tr>\n",
       "<tr><td>logloss</td>\n",
       "<td>0.1479539</td>\n",
       "<td>0.0834067</td>\n",
       "<td>0.1576565</td>\n",
       "<td>0.1776578</td>\n",
       "<td>0.2592535</td>\n",
       "<td>0.1037899</td>\n",
       "<td>0.3669671</td>\n",
       "<td>0.0339909</td>\n",
       "<td>0.2916437</td>\n",
       "<td>0.0323287</td>\n",
       "<td>0.0200375</td>\n",
       "<td>0.0362131</td></tr>\n",
       "<tr><td>max_per_class_error</td>\n",
       "<td>0.1842857</td>\n",
       "<td>0.2056448</td>\n",
       "<td>0.2</td>\n",
       "<td>0.25</td>\n",
       "<td>0.1428571</td>\n",
       "<td>0.0</td>\n",
       "<td>1.0</td>\n",
       "<td>0.0</td>\n",
       "<td>0.25</td>\n",
       "<td>0.0</td>\n",
       "<td>0.0</td>\n",
       "<td>0.0</td></tr>\n",
       "<tr><td>mean_per_class_accuracy</td>\n",
       "<td>0.9385714</td>\n",
       "<td>0.0685483</td>\n",
       "<td>0.9333333</td>\n",
       "<td>0.9166667</td>\n",
       "<td>0.9523810</td>\n",
       "<td>1.0</td>\n",
       "<td>0.6666667</td>\n",
       "<td>1.0</td>\n",
       "<td>0.9166667</td>\n",
       "<td>1.0</td>\n",
       "<td>1.0</td>\n",
       "<td>1.0</td></tr>\n",
       "<tr><td>mean_per_class_error</td>\n",
       "<td>0.0614286</td>\n",
       "<td>0.0685483</td>\n",
       "<td>0.0666667</td>\n",
       "<td>0.0833333</td>\n",
       "<td>0.0476191</td>\n",
       "<td>0.0</td>\n",
       "<td>0.3333333</td>\n",
       "<td>0.0</td>\n",
       "<td>0.0833333</td>\n",
       "<td>0.0</td>\n",
       "<td>0.0</td>\n",
       "<td>0.0</td></tr>\n",
       "<tr><td>mse</td>\n",
       "<td>0.0442944</td>\n",
       "<td>0.0313750</td>\n",
       "<td>0.0555538</td>\n",
       "<td>0.0587759</td>\n",
       "<td>0.0620913</td>\n",
       "<td>0.0223429</td>\n",
       "<td>0.1424999</td>\n",
       "<td>0.0035741</td>\n",
       "<td>0.0897884</td>\n",
       "<td>0.0026064</td>\n",
       "<td>0.0008136</td>\n",
       "<td>0.0048975</td></tr>\n",
       "<tr><td>r2</td>\n",
       "<td>0.9079487</td>\n",
       "<td>0.0628533</td>\n",
       "<td>0.7652851</td>\n",
       "<td>0.8950431</td>\n",
       "<td>0.9154502</td>\n",
       "<td>0.9454682</td>\n",
       "<td>0.7862501</td>\n",
       "<td>0.9943957</td>\n",
       "<td>0.7959355</td>\n",
       "<td>0.9935223</td>\n",
       "<td>0.9985762</td>\n",
       "<td>0.9895606</td></tr>\n",
       "<tr><td>rmse</td>\n",
       "<td>0.1763274</td>\n",
       "<td>0.0812497</td>\n",
       "<td>0.2356986</td>\n",
       "<td>0.2424374</td>\n",
       "<td>0.2491813</td>\n",
       "<td>0.1494754</td>\n",
       "<td>0.3774916</td>\n",
       "<td>0.0597842</td>\n",
       "<td>0.2996471</td>\n",
       "<td>0.0510530</td>\n",
       "<td>0.0285235</td>\n",
       "<td>0.0699821</td></tr></table></div>"
      ],
      "text/plain": [
       "                         mean       sd         cv_1_valid    cv_2_valid    cv_3_valid    cv_4_valid    cv_5_valid    cv_6_valid    cv_7_valid    cv_8_valid    cv_9_valid    cv_10_valid\n",
       "-----------------------  ---------  ---------  ------------  ------------  ------------  ------------  ------------  ------------  ------------  ------------  ------------  -------------\n",
       "accuracy                 0.932724   0.0691644  0.923077      0.9           0.9375        1             0.666667      1             0.9           1             1             1\n",
       "err                      0.0672756  0.0691644  0.0769231     0.1           0.0625        0             0.333333      0             0.1           0             0             0\n",
       "err_count                0.6        0.469042   1             1             1             0             2             0             1             0             0             0\n",
       "logloss                  0.147954   0.0834067  0.157657      0.177658      0.259253      0.10379       0.366967      0.0339909     0.291644      0.0323287     0.0200375     0.0362131\n",
       "max_per_class_error      0.184286   0.205645   0.2           0.25          0.142857      0             1             0             0.25          0             0             0\n",
       "mean_per_class_accuracy  0.938571   0.0685483  0.933333      0.916667      0.952381      1             0.666667      1             0.916667      1             1             1\n",
       "mean_per_class_error     0.0614286  0.0685483  0.0666667     0.0833333     0.0476191     0             0.333333      0             0.0833333     0             0             0\n",
       "mse                      0.0442944  0.031375   0.0555538     0.0587759     0.0620913     0.0223429     0.1425        0.00357414    0.0897884     0.00260641    0.000813587   0.00489749\n",
       "r2                       0.907949   0.0628533  0.765285      0.895043      0.91545       0.945468      0.78625       0.994396      0.795936      0.993522      0.998576      0.989561\n",
       "rmse                     0.176327   0.0812497  0.235699      0.242437      0.249181      0.149475      0.377492      0.0597842     0.299647      0.051053      0.0285235     0.0699821"
      ]
     },
     "metadata": {},
     "output_type": "display_data"
    },
    {
     "name": "stdout",
     "output_type": "stream",
     "text": [
      "Scoring History: \n"
     ]
    },
    {
     "data": {
      "text/html": [
       "<div style=\"overflow:auto\"><table style=\"width:50%\"><tr><td><b></b></td>\n",
       "<td><b>timestamp</b></td>\n",
       "<td><b>duration</b></td>\n",
       "<td><b>number_of_trees</b></td>\n",
       "<td><b>training_rmse</b></td>\n",
       "<td><b>training_logloss</b></td>\n",
       "<td><b>training_classification_error</b></td></tr>\n",
       "<tr><td></td>\n",
       "<td>2019-05-04 15:58:39</td>\n",
       "<td> 0.589 sec</td>\n",
       "<td>0.0</td>\n",
       "<td>nan</td>\n",
       "<td>nan</td>\n",
       "<td>nan</td></tr>\n",
       "<tr><td></td>\n",
       "<td>2019-05-04 15:58:39</td>\n",
       "<td> 0.596 sec</td>\n",
       "<td>1.0</td>\n",
       "<td>0.2672612</td>\n",
       "<td>2.4670555</td>\n",
       "<td>0.0714286</td></tr>\n",
       "<tr><td></td>\n",
       "<td>2019-05-04 15:58:39</td>\n",
       "<td> 0.600 sec</td>\n",
       "<td>2.0</td>\n",
       "<td>0.1921203</td>\n",
       "<td>0.9708125</td>\n",
       "<td>0.0410959</td></tr>\n",
       "<tr><td></td>\n",
       "<td>2019-05-04 15:58:39</td>\n",
       "<td> 0.605 sec</td>\n",
       "<td>3.0</td>\n",
       "<td>0.1960528</td>\n",
       "<td>0.8448962</td>\n",
       "<td>0.0465116</td></tr>\n",
       "<tr><td></td>\n",
       "<td>2019-05-04 15:58:39</td>\n",
       "<td> 0.609 sec</td>\n",
       "<td>4.0</td>\n",
       "<td>0.1976891</td>\n",
       "<td>0.7846775</td>\n",
       "<td>0.0425532</td></tr>\n",
       "<tr><td>---</td>\n",
       "<td>---</td>\n",
       "<td>---</td>\n",
       "<td>---</td>\n",
       "<td>---</td>\n",
       "<td>---</td>\n",
       "<td>---</td></tr>\n",
       "<tr><td></td>\n",
       "<td>2019-05-04 15:58:39</td>\n",
       "<td> 0.828 sec</td>\n",
       "<td>46.0</td>\n",
       "<td>0.1724718</td>\n",
       "<td>0.0972755</td>\n",
       "<td>0.0363636</td></tr>\n",
       "<tr><td></td>\n",
       "<td>2019-05-04 15:58:39</td>\n",
       "<td> 0.831 sec</td>\n",
       "<td>47.0</td>\n",
       "<td>0.1704077</td>\n",
       "<td>0.0947877</td>\n",
       "<td>0.0363636</td></tr>\n",
       "<tr><td></td>\n",
       "<td>2019-05-04 15:58:39</td>\n",
       "<td> 0.834 sec</td>\n",
       "<td>48.0</td>\n",
       "<td>0.1694145</td>\n",
       "<td>0.0937596</td>\n",
       "<td>0.0363636</td></tr>\n",
       "<tr><td></td>\n",
       "<td>2019-05-04 15:58:39</td>\n",
       "<td> 0.837 sec</td>\n",
       "<td>49.0</td>\n",
       "<td>0.1708205</td>\n",
       "<td>0.0952585</td>\n",
       "<td>0.0363636</td></tr>\n",
       "<tr><td></td>\n",
       "<td>2019-05-04 15:58:39</td>\n",
       "<td> 0.840 sec</td>\n",
       "<td>50.0</td>\n",
       "<td>0.1727051</td>\n",
       "<td>0.0979623</td>\n",
       "<td>0.0363636</td></tr></table></div>"
      ],
      "text/plain": [
       "     timestamp            duration    number_of_trees    training_rmse        training_logloss     training_classification_error\n",
       "---  -------------------  ----------  -----------------  -------------------  -------------------  -------------------------------\n",
       "     2019-05-04 15:58:39  0.589 sec   0.0                nan                  nan                  nan\n",
       "     2019-05-04 15:58:39  0.596 sec   1.0                0.2672612419124244   2.4670554567793346   0.07142857142857142\n",
       "     2019-05-04 15:58:39  0.600 sec   2.0                0.19212026928229614  0.9708124966993071   0.0410958904109589\n",
       "     2019-05-04 15:58:39  0.605 sec   3.0                0.19605277989985234  0.8448961828869475   0.046511627906976744\n",
       "     2019-05-04 15:58:39  0.609 sec   4.0                0.19768907219960208  0.7846774895419742   0.0425531914893617\n",
       "---  ---                  ---         ---                ---                  ---                  ---\n",
       "     2019-05-04 15:58:39  0.828 sec   46.0               0.17247175303002363  0.09727549127311266  0.03636363636363636\n",
       "     2019-05-04 15:58:39  0.831 sec   47.0               0.17040765996407586  0.09478774435639359  0.03636363636363636\n",
       "     2019-05-04 15:58:39  0.834 sec   48.0               0.1694145228321749   0.09375956579963514  0.03636363636363636\n",
       "     2019-05-04 15:58:39  0.837 sec   49.0               0.17082053713968465  0.09525853561715598  0.03636363636363636\n",
       "     2019-05-04 15:58:39  0.840 sec   50.0               0.1727051083947563   0.09796231313147521  0.03636363636363636"
      ]
     },
     "metadata": {},
     "output_type": "display_data"
    },
    {
     "name": "stdout",
     "output_type": "stream",
     "text": [
      "\n",
      "See the whole table with table.as_data_frame()\n",
      "Variable Importances: \n"
     ]
    },
    {
     "data": {
      "text/html": [
       "<div style=\"overflow:auto\"><table style=\"width:50%\"><tr><td><b>variable</b></td>\n",
       "<td><b>relative_importance</b></td>\n",
       "<td><b>scaled_importance</b></td>\n",
       "<td><b>percentage</b></td></tr>\n",
       "<tr><td>petal_length</td>\n",
       "<td>1331.8044434</td>\n",
       "<td>1.0</td>\n",
       "<td>0.4314551</td></tr>\n",
       "<tr><td>petal_width</td>\n",
       "<td>1241.2708740</td>\n",
       "<td>0.9320219</td>\n",
       "<td>0.4021256</td></tr>\n",
       "<tr><td>sepal_length</td>\n",
       "<td>411.1695251</td>\n",
       "<td>0.3087312</td>\n",
       "<td>0.1332036</td></tr>\n",
       "<tr><td>sepal_width</td>\n",
       "<td>102.5295181</td>\n",
       "<td>0.0769854</td>\n",
       "<td>0.0332157</td></tr></table></div>"
      ],
      "text/plain": [
       "variable      relative_importance    scaled_importance    percentage\n",
       "------------  ---------------------  -------------------  ------------\n",
       "petal_length  1331.8                 1                    0.431455\n",
       "petal_width   1241.27                0.932022             0.402126\n",
       "sepal_length  411.17                 0.308731             0.133204\n",
       "sepal_width   102.53                 0.0769854            0.0332157"
      ]
     },
     "metadata": {},
     "output_type": "display_data"
    },
    {
     "data": {
      "text/plain": []
     },
     "execution_count": 39,
     "metadata": {},
     "output_type": "execute_result"
    }
   ],
   "source": [
    "m"
   ]
  },
  {
   "cell_type": "code",
   "execution_count": 40,
   "metadata": {},
   "outputs": [
    {
     "name": "stdout",
     "output_type": "stream",
     "text": [
      "\n",
      "ModelMetricsMultinomial: drf\n",
      "** Reported on test data. **\n",
      "\n",
      "MSE: 0.040403465344621074\n",
      "RMSE: 0.20100613260450806\n",
      "LogLoss: 0.11146750881070627\n",
      "Mean Per-Class Error: 0.14814814814814814\n",
      "Confusion Matrix: Row labels: Actual class; Column labels: Predicted class\n",
      "\n"
     ]
    },
    {
     "data": {
      "text/html": [
       "<div style=\"overflow:auto\"><table style=\"width:50%\"><tr><td><b>setosa</b></td>\n",
       "<td><b>versicolor</b></td>\n",
       "<td><b>virginica</b></td>\n",
       "<td><b>Error</b></td>\n",
       "<td><b>Rate</b></td></tr>\n",
       "<tr><td>12.0</td>\n",
       "<td>0.0</td>\n",
       "<td>0.0</td>\n",
       "<td>0.0</td>\n",
       "<td>0 / 12</td></tr>\n",
       "<tr><td>0.0</td>\n",
       "<td>8.0</td>\n",
       "<td>1.0</td>\n",
       "<td>0.1111111</td>\n",
       "<td>1 / 9</td></tr>\n",
       "<tr><td>0.0</td>\n",
       "<td>1.0</td>\n",
       "<td>2.0</td>\n",
       "<td>0.3333333</td>\n",
       "<td>1 / 3</td></tr>\n",
       "<tr><td>12.0</td>\n",
       "<td>9.0</td>\n",
       "<td>3.0</td>\n",
       "<td>0.0833333</td>\n",
       "<td>2 / 24</td></tr></table></div>"
      ],
      "text/plain": [
       "setosa    versicolor    virginica    Error      Rate\n",
       "--------  ------------  -----------  ---------  ------\n",
       "12        0             0            0          0 / 12\n",
       "0         8             1            0.111111   1 / 9\n",
       "0         1             2            0.333333   1 / 3\n",
       "12        9             3            0.0833333  2 / 24"
      ]
     },
     "metadata": {},
     "output_type": "display_data"
    },
    {
     "name": "stdout",
     "output_type": "stream",
     "text": [
      "Top-3 Hit Ratios: \n"
     ]
    },
    {
     "data": {
      "text/html": [
       "<div style=\"overflow:auto\"><table style=\"width:50%\"><tr><td><b>k</b></td>\n",
       "<td><b>hit_ratio</b></td></tr>\n",
       "<tr><td>1</td>\n",
       "<td>0.9166667</td></tr>\n",
       "<tr><td>2</td>\n",
       "<td>1.0</td></tr>\n",
       "<tr><td>3</td>\n",
       "<td>1.0</td></tr></table></div>"
      ],
      "text/plain": [
       "k    hit_ratio\n",
       "---  -----------\n",
       "1    0.916667\n",
       "2    1\n",
       "3    1"
      ]
     },
     "metadata": {},
     "output_type": "display_data"
    },
    {
     "data": {
      "text/plain": []
     },
     "execution_count": 40,
     "metadata": {},
     "output_type": "execute_result"
    }
   ],
   "source": [
    "m.model_performance(test)"
   ]
  },
  {
   "cell_type": "code",
   "execution_count": 46,
   "metadata": {},
   "outputs": [
    {
     "name": "stdout",
     "output_type": "stream",
     "text": [
      "drf prediction progress: |████████████████████████████████████████████████| 100%\n"
     ]
    }
   ],
   "source": [
    "p = m.predict(test)"
   ]
  },
  {
   "cell_type": "code",
   "execution_count": 47,
   "metadata": {},
   "outputs": [
    {
     "data": {
      "text/html": [
       "<table>\n",
       "<thead>\n",
       "<tr><th>predict  </th><th style=\"text-align: right;\">  setosa</th><th style=\"text-align: right;\">  versicolor</th><th style=\"text-align: right;\">  virginica</th></tr>\n",
       "</thead>\n",
       "<tbody>\n",
       "<tr><td>setosa   </td><td style=\"text-align: right;\">0.99632 </td><td style=\"text-align: right;\">           0</td><td style=\"text-align: right;\"> 0.00368043</td></tr>\n",
       "<tr><td>setosa   </td><td style=\"text-align: right;\">0.99632 </td><td style=\"text-align: right;\">           0</td><td style=\"text-align: right;\"> 0.00368043</td></tr>\n",
       "<tr><td>setosa   </td><td style=\"text-align: right;\">0.996089</td><td style=\"text-align: right;\">           0</td><td style=\"text-align: right;\"> 0.00391121</td></tr>\n",
       "<tr><td>setosa   </td><td style=\"text-align: right;\">0.996089</td><td style=\"text-align: right;\">           0</td><td style=\"text-align: right;\"> 0.00391121</td></tr>\n",
       "<tr><td>setosa   </td><td style=\"text-align: right;\">0.99632 </td><td style=\"text-align: right;\">           0</td><td style=\"text-align: right;\"> 0.00368043</td></tr>\n",
       "</tbody>\n",
       "</table>"
      ]
     },
     "metadata": {},
     "output_type": "display_data"
    },
    {
     "data": {
      "text/plain": []
     },
     "execution_count": 47,
     "metadata": {},
     "output_type": "execute_result"
    }
   ],
   "source": [
    "p.head(5)"
   ]
  },
  {
   "cell_type": "code",
   "execution_count": 48,
   "metadata": {},
   "outputs": [
    {
     "name": "stdout",
     "output_type": "stream",
     "text": [
      "Model Details\n",
      "=============\n",
      "H2ORandomForestEstimator :  Distributed Random Forest\n",
      "Model Key:  RF_defaults\n",
      "\n",
      "\n",
      "ModelMetricsMultinomial: drf\n",
      "** Reported on train data. **\n",
      "\n",
      "MSE: 0.02982705446564453\n",
      "RMSE: 0.1727051083947563\n",
      "LogLoss: 0.09796231313147521\n",
      "Mean Per-Class Error: 0.03389103389103389\n",
      "Confusion Matrix: Row labels: Actual class; Column labels: Predicted class\n",
      "\n"
     ]
    },
    {
     "data": {
      "text/html": [
       "<div style=\"overflow:auto\"><table style=\"width:50%\"><tr><td><b>setosa</b></td>\n",
       "<td><b>versicolor</b></td>\n",
       "<td><b>virginica</b></td>\n",
       "<td><b>Error</b></td>\n",
       "<td><b>Rate</b></td></tr>\n",
       "<tr><td>31.0</td>\n",
       "<td>0.0</td>\n",
       "<td>0.0</td>\n",
       "<td>0.0</td>\n",
       "<td>0 / 31</td></tr>\n",
       "<tr><td>0.0</td>\n",
       "<td>35.0</td>\n",
       "<td>2.0</td>\n",
       "<td>0.0540541</td>\n",
       "<td>2 / 37</td></tr>\n",
       "<tr><td>0.0</td>\n",
       "<td>2.0</td>\n",
       "<td>40.0</td>\n",
       "<td>0.0476190</td>\n",
       "<td>2 / 42</td></tr>\n",
       "<tr><td>31.0</td>\n",
       "<td>37.0</td>\n",
       "<td>42.0</td>\n",
       "<td>0.0363636</td>\n",
       "<td>4 / 110</td></tr></table></div>"
      ],
      "text/plain": [
       "setosa    versicolor    virginica    Error      Rate\n",
       "--------  ------------  -----------  ---------  -------\n",
       "31        0             0            0          0 / 31\n",
       "0         35            2            0.0540541  2 / 37\n",
       "0         2             40           0.047619   2 / 42\n",
       "31        37            42           0.0363636  4 / 110"
      ]
     },
     "metadata": {},
     "output_type": "display_data"
    },
    {
     "name": "stdout",
     "output_type": "stream",
     "text": [
      "Top-3 Hit Ratios: \n"
     ]
    },
    {
     "data": {
      "text/html": [
       "<div style=\"overflow:auto\"><table style=\"width:50%\"><tr><td><b>k</b></td>\n",
       "<td><b>hit_ratio</b></td></tr>\n",
       "<tr><td>1</td>\n",
       "<td>0.9636363</td></tr>\n",
       "<tr><td>2</td>\n",
       "<td>1.0</td></tr>\n",
       "<tr><td>3</td>\n",
       "<td>1.0</td></tr></table></div>"
      ],
      "text/plain": [
       "k    hit_ratio\n",
       "---  -----------\n",
       "1    0.963636\n",
       "2    1\n",
       "3    1"
      ]
     },
     "metadata": {},
     "output_type": "display_data"
    },
    {
     "name": "stdout",
     "output_type": "stream",
     "text": [
      "\n",
      "ModelMetricsMultinomial: drf\n",
      "** Reported on cross-validation data. **\n",
      "\n",
      "MSE: 0.04052828383065766\n",
      "RMSE: 0.20131637745264955\n",
      "LogLoss: 0.14272921142954\n",
      "Mean Per-Class Error: 0.049764049764049766\n",
      "Confusion Matrix: Row labels: Actual class; Column labels: Predicted class\n",
      "\n"
     ]
    },
    {
     "data": {
      "text/html": [
       "<div style=\"overflow:auto\"><table style=\"width:50%\"><tr><td><b>setosa</b></td>\n",
       "<td><b>versicolor</b></td>\n",
       "<td><b>virginica</b></td>\n",
       "<td><b>Error</b></td>\n",
       "<td><b>Rate</b></td></tr>\n",
       "<tr><td>31.0</td>\n",
       "<td>0.0</td>\n",
       "<td>0.0</td>\n",
       "<td>0.0</td>\n",
       "<td>0 / 31</td></tr>\n",
       "<tr><td>0.0</td>\n",
       "<td>35.0</td>\n",
       "<td>2.0</td>\n",
       "<td>0.0540541</td>\n",
       "<td>2 / 37</td></tr>\n",
       "<tr><td>0.0</td>\n",
       "<td>4.0</td>\n",
       "<td>38.0</td>\n",
       "<td>0.0952381</td>\n",
       "<td>4 / 42</td></tr>\n",
       "<tr><td>31.0</td>\n",
       "<td>39.0</td>\n",
       "<td>40.0</td>\n",
       "<td>0.0545455</td>\n",
       "<td>6 / 110</td></tr></table></div>"
      ],
      "text/plain": [
       "setosa    versicolor    virginica    Error      Rate\n",
       "--------  ------------  -----------  ---------  -------\n",
       "31        0             0            0          0 / 31\n",
       "0         35            2            0.0540541  2 / 37\n",
       "0         4             38           0.0952381  4 / 42\n",
       "31        39            40           0.0545455  6 / 110"
      ]
     },
     "metadata": {},
     "output_type": "display_data"
    },
    {
     "name": "stdout",
     "output_type": "stream",
     "text": [
      "Top-3 Hit Ratios: \n"
     ]
    },
    {
     "data": {
      "text/html": [
       "<div style=\"overflow:auto\"><table style=\"width:50%\"><tr><td><b>k</b></td>\n",
       "<td><b>hit_ratio</b></td></tr>\n",
       "<tr><td>1</td>\n",
       "<td>0.9454545</td></tr>\n",
       "<tr><td>2</td>\n",
       "<td>1.0</td></tr>\n",
       "<tr><td>3</td>\n",
       "<td>1.0</td></tr></table></div>"
      ],
      "text/plain": [
       "k    hit_ratio\n",
       "---  -----------\n",
       "1    0.945455\n",
       "2    1\n",
       "3    1"
      ]
     },
     "metadata": {},
     "output_type": "display_data"
    },
    {
     "name": "stdout",
     "output_type": "stream",
     "text": [
      "Cross-Validation Metrics Summary: \n"
     ]
    },
    {
     "data": {
      "text/html": [
       "<div style=\"overflow:auto\"><table style=\"width:50%\"><tr><td><b></b></td>\n",
       "<td><b>mean</b></td>\n",
       "<td><b>sd</b></td>\n",
       "<td><b>cv_1_valid</b></td>\n",
       "<td><b>cv_2_valid</b></td>\n",
       "<td><b>cv_3_valid</b></td>\n",
       "<td><b>cv_4_valid</b></td>\n",
       "<td><b>cv_5_valid</b></td>\n",
       "<td><b>cv_6_valid</b></td>\n",
       "<td><b>cv_7_valid</b></td>\n",
       "<td><b>cv_8_valid</b></td>\n",
       "<td><b>cv_9_valid</b></td>\n",
       "<td><b>cv_10_valid</b></td></tr>\n",
       "<tr><td>accuracy</td>\n",
       "<td>0.9327244</td>\n",
       "<td>0.0691644</td>\n",
       "<td>0.9230769</td>\n",
       "<td>0.9</td>\n",
       "<td>0.9375</td>\n",
       "<td>1.0</td>\n",
       "<td>0.6666667</td>\n",
       "<td>1.0</td>\n",
       "<td>0.9</td>\n",
       "<td>1.0</td>\n",
       "<td>1.0</td>\n",
       "<td>1.0</td></tr>\n",
       "<tr><td>err</td>\n",
       "<td>0.0672756</td>\n",
       "<td>0.0691644</td>\n",
       "<td>0.0769231</td>\n",
       "<td>0.1</td>\n",
       "<td>0.0625</td>\n",
       "<td>0.0</td>\n",
       "<td>0.3333333</td>\n",
       "<td>0.0</td>\n",
       "<td>0.1</td>\n",
       "<td>0.0</td>\n",
       "<td>0.0</td>\n",
       "<td>0.0</td></tr>\n",
       "<tr><td>err_count</td>\n",
       "<td>0.6</td>\n",
       "<td>0.4690416</td>\n",
       "<td>1.0</td>\n",
       "<td>1.0</td>\n",
       "<td>1.0</td>\n",
       "<td>0.0</td>\n",
       "<td>2.0</td>\n",
       "<td>0.0</td>\n",
       "<td>1.0</td>\n",
       "<td>0.0</td>\n",
       "<td>0.0</td>\n",
       "<td>0.0</td></tr>\n",
       "<tr><td>logloss</td>\n",
       "<td>0.1479539</td>\n",
       "<td>0.0834067</td>\n",
       "<td>0.1576565</td>\n",
       "<td>0.1776578</td>\n",
       "<td>0.2592535</td>\n",
       "<td>0.1037899</td>\n",
       "<td>0.3669671</td>\n",
       "<td>0.0339909</td>\n",
       "<td>0.2916437</td>\n",
       "<td>0.0323287</td>\n",
       "<td>0.0200375</td>\n",
       "<td>0.0362131</td></tr>\n",
       "<tr><td>max_per_class_error</td>\n",
       "<td>0.1842857</td>\n",
       "<td>0.2056448</td>\n",
       "<td>0.2</td>\n",
       "<td>0.25</td>\n",
       "<td>0.1428571</td>\n",
       "<td>0.0</td>\n",
       "<td>1.0</td>\n",
       "<td>0.0</td>\n",
       "<td>0.25</td>\n",
       "<td>0.0</td>\n",
       "<td>0.0</td>\n",
       "<td>0.0</td></tr>\n",
       "<tr><td>mean_per_class_accuracy</td>\n",
       "<td>0.9385714</td>\n",
       "<td>0.0685483</td>\n",
       "<td>0.9333333</td>\n",
       "<td>0.9166667</td>\n",
       "<td>0.9523810</td>\n",
       "<td>1.0</td>\n",
       "<td>0.6666667</td>\n",
       "<td>1.0</td>\n",
       "<td>0.9166667</td>\n",
       "<td>1.0</td>\n",
       "<td>1.0</td>\n",
       "<td>1.0</td></tr>\n",
       "<tr><td>mean_per_class_error</td>\n",
       "<td>0.0614286</td>\n",
       "<td>0.0685483</td>\n",
       "<td>0.0666667</td>\n",
       "<td>0.0833333</td>\n",
       "<td>0.0476191</td>\n",
       "<td>0.0</td>\n",
       "<td>0.3333333</td>\n",
       "<td>0.0</td>\n",
       "<td>0.0833333</td>\n",
       "<td>0.0</td>\n",
       "<td>0.0</td>\n",
       "<td>0.0</td></tr>\n",
       "<tr><td>mse</td>\n",
       "<td>0.0442944</td>\n",
       "<td>0.0313750</td>\n",
       "<td>0.0555538</td>\n",
       "<td>0.0587759</td>\n",
       "<td>0.0620913</td>\n",
       "<td>0.0223429</td>\n",
       "<td>0.1424999</td>\n",
       "<td>0.0035741</td>\n",
       "<td>0.0897884</td>\n",
       "<td>0.0026064</td>\n",
       "<td>0.0008136</td>\n",
       "<td>0.0048975</td></tr>\n",
       "<tr><td>r2</td>\n",
       "<td>0.9079487</td>\n",
       "<td>0.0628533</td>\n",
       "<td>0.7652851</td>\n",
       "<td>0.8950431</td>\n",
       "<td>0.9154502</td>\n",
       "<td>0.9454682</td>\n",
       "<td>0.7862501</td>\n",
       "<td>0.9943957</td>\n",
       "<td>0.7959355</td>\n",
       "<td>0.9935223</td>\n",
       "<td>0.9985762</td>\n",
       "<td>0.9895606</td></tr>\n",
       "<tr><td>rmse</td>\n",
       "<td>0.1763274</td>\n",
       "<td>0.0812497</td>\n",
       "<td>0.2356986</td>\n",
       "<td>0.2424374</td>\n",
       "<td>0.2491813</td>\n",
       "<td>0.1494754</td>\n",
       "<td>0.3774916</td>\n",
       "<td>0.0597842</td>\n",
       "<td>0.2996471</td>\n",
       "<td>0.0510530</td>\n",
       "<td>0.0285235</td>\n",
       "<td>0.0699821</td></tr></table></div>"
      ],
      "text/plain": [
       "                         mean       sd         cv_1_valid    cv_2_valid    cv_3_valid    cv_4_valid    cv_5_valid    cv_6_valid    cv_7_valid    cv_8_valid    cv_9_valid    cv_10_valid\n",
       "-----------------------  ---------  ---------  ------------  ------------  ------------  ------------  ------------  ------------  ------------  ------------  ------------  -------------\n",
       "accuracy                 0.932724   0.0691644  0.923077      0.9           0.9375        1             0.666667      1             0.9           1             1             1\n",
       "err                      0.0672756  0.0691644  0.0769231     0.1           0.0625        0             0.333333      0             0.1           0             0             0\n",
       "err_count                0.6        0.469042   1             1             1             0             2             0             1             0             0             0\n",
       "logloss                  0.147954   0.0834067  0.157657      0.177658      0.259253      0.10379       0.366967      0.0339909     0.291644      0.0323287     0.0200375     0.0362131\n",
       "max_per_class_error      0.184286   0.205645   0.2           0.25          0.142857      0             1             0             0.25          0             0             0\n",
       "mean_per_class_accuracy  0.938571   0.0685483  0.933333      0.916667      0.952381      1             0.666667      1             0.916667      1             1             1\n",
       "mean_per_class_error     0.0614286  0.0685483  0.0666667     0.0833333     0.0476191     0             0.333333      0             0.0833333     0             0             0\n",
       "mse                      0.0442944  0.031375   0.0555538     0.0587759     0.0620913     0.0223429     0.1425        0.00357414    0.0897884     0.00260641    0.000813587   0.00489749\n",
       "r2                       0.907949   0.0628533  0.765285      0.895043      0.91545       0.945468      0.78625       0.994396      0.795936      0.993522      0.998576      0.989561\n",
       "rmse                     0.176327   0.0812497  0.235699      0.242437      0.249181      0.149475      0.377492      0.0597842     0.299647      0.051053      0.0285235     0.0699821"
      ]
     },
     "metadata": {},
     "output_type": "display_data"
    },
    {
     "name": "stdout",
     "output_type": "stream",
     "text": [
      "Scoring History: \n"
     ]
    },
    {
     "data": {
      "text/html": [
       "<div style=\"overflow:auto\"><table style=\"width:50%\"><tr><td><b></b></td>\n",
       "<td><b>timestamp</b></td>\n",
       "<td><b>duration</b></td>\n",
       "<td><b>number_of_trees</b></td>\n",
       "<td><b>training_rmse</b></td>\n",
       "<td><b>training_logloss</b></td>\n",
       "<td><b>training_classification_error</b></td></tr>\n",
       "<tr><td></td>\n",
       "<td>2019-05-04 15:58:39</td>\n",
       "<td> 0.589 sec</td>\n",
       "<td>0.0</td>\n",
       "<td>nan</td>\n",
       "<td>nan</td>\n",
       "<td>nan</td></tr>\n",
       "<tr><td></td>\n",
       "<td>2019-05-04 15:58:39</td>\n",
       "<td> 0.596 sec</td>\n",
       "<td>1.0</td>\n",
       "<td>0.2672612</td>\n",
       "<td>2.4670555</td>\n",
       "<td>0.0714286</td></tr>\n",
       "<tr><td></td>\n",
       "<td>2019-05-04 15:58:39</td>\n",
       "<td> 0.600 sec</td>\n",
       "<td>2.0</td>\n",
       "<td>0.1921203</td>\n",
       "<td>0.9708125</td>\n",
       "<td>0.0410959</td></tr>\n",
       "<tr><td></td>\n",
       "<td>2019-05-04 15:58:39</td>\n",
       "<td> 0.605 sec</td>\n",
       "<td>3.0</td>\n",
       "<td>0.1960528</td>\n",
       "<td>0.8448962</td>\n",
       "<td>0.0465116</td></tr>\n",
       "<tr><td></td>\n",
       "<td>2019-05-04 15:58:39</td>\n",
       "<td> 0.609 sec</td>\n",
       "<td>4.0</td>\n",
       "<td>0.1976891</td>\n",
       "<td>0.7846775</td>\n",
       "<td>0.0425532</td></tr>\n",
       "<tr><td>---</td>\n",
       "<td>---</td>\n",
       "<td>---</td>\n",
       "<td>---</td>\n",
       "<td>---</td>\n",
       "<td>---</td>\n",
       "<td>---</td></tr>\n",
       "<tr><td></td>\n",
       "<td>2019-05-04 15:58:39</td>\n",
       "<td> 0.828 sec</td>\n",
       "<td>46.0</td>\n",
       "<td>0.1724718</td>\n",
       "<td>0.0972755</td>\n",
       "<td>0.0363636</td></tr>\n",
       "<tr><td></td>\n",
       "<td>2019-05-04 15:58:39</td>\n",
       "<td> 0.831 sec</td>\n",
       "<td>47.0</td>\n",
       "<td>0.1704077</td>\n",
       "<td>0.0947877</td>\n",
       "<td>0.0363636</td></tr>\n",
       "<tr><td></td>\n",
       "<td>2019-05-04 15:58:39</td>\n",
       "<td> 0.834 sec</td>\n",
       "<td>48.0</td>\n",
       "<td>0.1694145</td>\n",
       "<td>0.0937596</td>\n",
       "<td>0.0363636</td></tr>\n",
       "<tr><td></td>\n",
       "<td>2019-05-04 15:58:39</td>\n",
       "<td> 0.837 sec</td>\n",
       "<td>49.0</td>\n",
       "<td>0.1708205</td>\n",
       "<td>0.0952585</td>\n",
       "<td>0.0363636</td></tr>\n",
       "<tr><td></td>\n",
       "<td>2019-05-04 15:58:39</td>\n",
       "<td> 0.840 sec</td>\n",
       "<td>50.0</td>\n",
       "<td>0.1727051</td>\n",
       "<td>0.0979623</td>\n",
       "<td>0.0363636</td></tr></table></div>"
      ],
      "text/plain": [
       "     timestamp            duration    number_of_trees    training_rmse        training_logloss     training_classification_error\n",
       "---  -------------------  ----------  -----------------  -------------------  -------------------  -------------------------------\n",
       "     2019-05-04 15:58:39  0.589 sec   0.0                nan                  nan                  nan\n",
       "     2019-05-04 15:58:39  0.596 sec   1.0                0.2672612419124244   2.4670554567793346   0.07142857142857142\n",
       "     2019-05-04 15:58:39  0.600 sec   2.0                0.19212026928229614  0.9708124966993071   0.0410958904109589\n",
       "     2019-05-04 15:58:39  0.605 sec   3.0                0.19605277989985234  0.8448961828869475   0.046511627906976744\n",
       "     2019-05-04 15:58:39  0.609 sec   4.0                0.19768907219960208  0.7846774895419742   0.0425531914893617\n",
       "---  ---                  ---         ---                ---                  ---                  ---\n",
       "     2019-05-04 15:58:39  0.828 sec   46.0               0.17247175303002363  0.09727549127311266  0.03636363636363636\n",
       "     2019-05-04 15:58:39  0.831 sec   47.0               0.17040765996407586  0.09478774435639359  0.03636363636363636\n",
       "     2019-05-04 15:58:39  0.834 sec   48.0               0.1694145228321749   0.09375956579963514  0.03636363636363636\n",
       "     2019-05-04 15:58:39  0.837 sec   49.0               0.17082053713968465  0.09525853561715598  0.03636363636363636\n",
       "     2019-05-04 15:58:39  0.840 sec   50.0               0.1727051083947563   0.09796231313147521  0.03636363636363636"
      ]
     },
     "metadata": {},
     "output_type": "display_data"
    },
    {
     "name": "stdout",
     "output_type": "stream",
     "text": [
      "\n",
      "See the whole table with table.as_data_frame()\n",
      "Variable Importances: \n"
     ]
    },
    {
     "data": {
      "text/html": [
       "<div style=\"overflow:auto\"><table style=\"width:50%\"><tr><td><b>variable</b></td>\n",
       "<td><b>relative_importance</b></td>\n",
       "<td><b>scaled_importance</b></td>\n",
       "<td><b>percentage</b></td></tr>\n",
       "<tr><td>petal_length</td>\n",
       "<td>1331.8044434</td>\n",
       "<td>1.0</td>\n",
       "<td>0.4314551</td></tr>\n",
       "<tr><td>petal_width</td>\n",
       "<td>1241.2708740</td>\n",
       "<td>0.9320219</td>\n",
       "<td>0.4021256</td></tr>\n",
       "<tr><td>sepal_length</td>\n",
       "<td>411.1695251</td>\n",
       "<td>0.3087312</td>\n",
       "<td>0.1332036</td></tr>\n",
       "<tr><td>sepal_width</td>\n",
       "<td>102.5295181</td>\n",
       "<td>0.0769854</td>\n",
       "<td>0.0332157</td></tr></table></div>"
      ],
      "text/plain": [
       "variable      relative_importance    scaled_importance    percentage\n",
       "------------  ---------------------  -------------------  ------------\n",
       "petal_length  1331.8                 1                    0.431455\n",
       "petal_width   1241.27                0.932022             0.402126\n",
       "sepal_length  411.17                 0.308731             0.133204\n",
       "sepal_width   102.53                 0.0769854            0.0332157"
      ]
     },
     "metadata": {},
     "output_type": "display_data"
    },
    {
     "name": "stdout",
     "output_type": "stream",
     "text": [
      "\n"
     ]
    }
   ],
   "source": [
    "print(m)"
   ]
  },
  {
   "cell_type": "code",
   "execution_count": null,
   "metadata": {
    "collapsed": true
   },
   "outputs": [],
   "source": []
  }
 ],
 "metadata": {
  "kernelspec": {
   "display_name": "Python 3",
   "language": "python",
   "name": "python3"
  },
  "language_info": {
   "codemirror_mode": {
    "name": "ipython",
    "version": 3
   },
   "file_extension": ".py",
   "mimetype": "text/x-python",
   "name": "python",
   "nbconvert_exporter": "python",
   "pygments_lexer": "ipython3",
   "version": "3.6.3"
  }
 },
 "nbformat": 4,
 "nbformat_minor": 2
}
